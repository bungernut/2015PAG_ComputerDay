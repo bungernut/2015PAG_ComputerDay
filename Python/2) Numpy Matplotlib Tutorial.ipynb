{
 "metadata": {
  "name": "",
  "signature": "sha256:a36ebd56412e128070528ddcfb2d1a95813199cabee1c7ca033f06ef60477754"
 },
 "nbformat": 3,
 "nbformat_minor": 0,
 "worksheets": [
  {
   "cells": [
    {
     "cell_type": "code",
     "collapsed": false,
     "input": [
      "# Add the methods in these modules by importing them (my notebooks do this automatically)\n",
      "import numpy as np\n",
      "import matplotlib.pyplot as plt"
     ],
     "language": "python",
     "metadata": {},
     "outputs": []
    },
    {
     "cell_type": "code",
     "collapsed": false,
     "input": [
      "print dir(np)"
     ],
     "language": "python",
     "metadata": {},
     "outputs": []
    },
    {
     "cell_type": "code",
     "collapsed": false,
     "input": [
      "# Create some data\n",
      "# linspace create an array from 0 to 2pi with 1000 evenly spaced points\n",
      "x = np.linspace(0,2*np.pi,1000)\n",
      "print x.shape, x.size"
     ],
     "language": "python",
     "metadata": {},
     "outputs": []
    },
    {
     "cell_type": "code",
     "collapsed": false,
     "input": [
      "# numpy methods acting on arrays return arrays of the same dimension\n",
      "y1 = np.sin(x)\n",
      "y2 = np.linspace(-1,1,x.size)"
     ],
     "language": "python",
     "metadata": {},
     "outputs": []
    },
    {
     "cell_type": "code",
     "collapsed": false,
     "input": [
      "# Use matplotlib.pyplot to plot these two arrays as x,y\n",
      "plt.plot(x,y1)\n",
      "plt.plot(x,y2)"
     ],
     "language": "python",
     "metadata": {},
     "outputs": []
    },
    {
     "cell_type": "code",
     "collapsed": false,
     "input": [
      "# lets also add a horizontal line at 0.5\n",
      "# python knows that you want to multiply the array values by a constant\n",
      "y3 = np.ones(x.shape)*0.5\n",
      "# ok, but everyone knows that you have to label axes\n",
      "plt.figure(figsize=(6,4))\n",
      "plt.plot(x,y1,'r',label='sin')\n",
      "plt.plot(x,y2,'g',label='line')\n",
      "plt.plot(x,y3,'b--',label='horz')\n",
      "plt.ylabel('f(x)')\n",
      "plt.xlabel('x')\n",
      "plt.xlim(0,2*np.pi)\n",
      "plt.legend(loc='right')"
     ],
     "language": "python",
     "metadata": {},
     "outputs": []
    },
    {
     "cell_type": "code",
     "collapsed": false,
     "input": [
      "# Numpy can create multi-dimensional arrays\n",
      "A = numpy.zeros((10,10))\n",
      "print A"
     ],
     "language": "python",
     "metadata": {},
     "outputs": []
    },
    {
     "cell_type": "code",
     "collapsed": false,
     "input": [
      "# Access to multi dimensional arrays is A[dim1,dim2,...] \n",
      "for i in range(A.shape[0]): A[i,i] = i\n",
      "print A"
     ],
     "language": "python",
     "metadata": {},
     "outputs": []
    },
    {
     "cell_type": "code",
     "collapsed": false,
     "input": [
      "# You can also access slices of an array\n",
      "A[:,0] = 11 # python assumes you wanted to assign the whole column\n",
      "print A"
     ],
     "language": "python",
     "metadata": {},
     "outputs": []
    },
    {
     "cell_type": "code",
     "collapsed": false,
     "input": [
      "print A[:,3]\n",
      "print A[3,:]"
     ],
     "language": "python",
     "metadata": {},
     "outputs": []
    },
    {
     "cell_type": "code",
     "collapsed": false,
     "input": [],
     "language": "python",
     "metadata": {},
     "outputs": []
    }
   ],
   "metadata": {}
  }
 ]
}