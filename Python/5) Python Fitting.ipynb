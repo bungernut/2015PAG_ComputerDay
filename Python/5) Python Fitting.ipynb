{
 "metadata": {
  "name": "",
  "signature": "sha256:c9e2d9ac6bd28a823ad0f3b278272f30af37fd1b54819af3eb04b2c0537b1f84"
 },
 "nbformat": 3,
 "nbformat_minor": 0,
 "worksheets": [
  {
   "cells": [
    {
     "cell_type": "code",
     "collapsed": false,
     "input": [
      "import scipy.optimize"
     ],
     "language": "python",
     "metadata": {},
     "outputs": []
    },
    {
     "cell_type": "code",
     "collapsed": false,
     "input": [
      "# Setup some data to fit\n",
      "x  = np.linspace(0,2*np.pi,300)\n",
      "y  = np.linspace(-1,1,x.size)\n",
      "y1 = np.linspace(-1,1,x.size)+np.random.normal(loc=0,scale=0.3,size=x.size)\n",
      "plt.figure(figsize=(8,6))\n",
      "plt.plot(x,y1,'b.',label='z1')\n",
      "plt.plot(x,y,'k--',linewidth=2,alpha=0.5,label='z')\n",
      "plt.legend(loc=0,numpoints=1)\n",
      "plt.xlim(0,2*np.pi)"
     ],
     "language": "python",
     "metadata": {},
     "outputs": []
    },
    {
     "cell_type": "code",
     "collapsed": false,
     "input": [
      "# Lets create functions that we want to try to fit\n",
      "def my_line(x,m,b):\n",
      "    return m*x+b"
     ],
     "language": "python",
     "metadata": {},
     "outputs": []
    },
    {
     "cell_type": "code",
     "collapsed": false,
     "input": [
      "fit = scipy.optimize.curve_fit(my_line,x,y1,p0=(1,1))\n",
      "perr = np.sqrt(np.diag(fit[1]))\n",
      "print \"Parameters = \",fit[0]\n",
      "print \"1 sigma errors = \",perr"
     ],
     "language": "python",
     "metadata": {},
     "outputs": []
    },
    {
     "cell_type": "code",
     "collapsed": false,
     "input": [
      "plt.figure(figsize=(8,6))\n",
      "plt.plot(x,y1,'b.',label='y1')\n",
      "plt.plot(x,y,'k--',linewidth=5,label='y')\n",
      "plt.plot(x,my_line(x,fit[0][0],fit[0][1]),'r',linewidth=4,label='Fit')\n",
      "plt.legend(loc=0,numpoints=1)\n",
      "plt.xlim(0,2*np.pi)\n",
      "plt.title(\"Fit m=%.3f$\\\\pm$%.3f b=%.3f$\\\\pm$%.3f\"%(fit[0][0],perr[0],fit[0][1],perr[1]))"
     ],
     "language": "python",
     "metadata": {},
     "outputs": []
    },
    {
     "cell_type": "code",
     "collapsed": false,
     "input": [
      "# Lets do something more difficult"
     ],
     "language": "python",
     "metadata": {},
     "outputs": []
    },
    {
     "cell_type": "code",
     "collapsed": false,
     "input": [
      "N = 500\n",
      "x = np.linspace(0,16,500)\n",
      "y = np.linspace(1,3.33,x.size) + 3.1*np.exp(-(x-9.3)**2/(2*0.567**2)) \n",
      "y1 = y + np.random.normal(loc=0,scale=0.2,size=x.size)*np.linspace(1,4,x.size)\n",
      "plt.plot(x,y1,'b.')"
     ],
     "language": "python",
     "metadata": {},
     "outputs": []
    },
    {
     "cell_type": "code",
     "collapsed": false,
     "input": [
      "# Create a fitting function, looks like a gaussian bump on a line\n",
      "my_fun = lambda x,m,b,A,x0,sigma: x*m +b +A*np.exp(-(x-x0)**2/(2*sigma**2))"
     ],
     "language": "python",
     "metadata": {},
     "outputs": []
    },
    {
     "cell_type": "code",
     "collapsed": false,
     "input": [
      "fit,cov = scipy.optimize.curve_fit(my_fun,x,y1,p0=(.2,1,2,9,1))\n",
      "perr = np.sqrt(np.diag(cov))\n",
      "print \"Parameters = \",fit\n",
      "print \"1 sigma errors = \",perr"
     ],
     "language": "python",
     "metadata": {},
     "outputs": []
    },
    {
     "cell_type": "code",
     "collapsed": false,
     "input": [
      "plt.figure(figsize=(10,6))\n",
      "plt.plot(x,y1,'b.',label='Data')\n",
      "plt.plot(x,my_fun(x,fit[0],fit[1],fit[2],fit[3],fit[4]),'r',label='Fit')\n",
      "anno= \"line: m=%.2f$\\\\pm$%.2f b=%.2f$\\\\pm$%.2f\\n\"%(fit[0],perr[0],fit[1],perr[1])\n",
      "anno+= \"exp: A=%.2f$\\\\pm$%.2f x$_0$=%.2f$\\\\pm$%.2f $\\\\sigma$=%.2f$\\\\pm$%.2f\"%(fit[2],perr[2],fit[3],perr[3],fit[4],perr[4])\n",
      "plt.legend(loc='center left')\n",
      "plt.annotate(anno,xy=(.5,6.2),size=13,color='g')"
     ],
     "language": "python",
     "metadata": {},
     "outputs": []
    },
    {
     "cell_type": "code",
     "collapsed": false,
     "input": [],
     "language": "python",
     "metadata": {},
     "outputs": []
    },
    {
     "cell_type": "code",
     "collapsed": false,
     "input": [],
     "language": "python",
     "metadata": {},
     "outputs": []
    }
   ],
   "metadata": {}
  }
 ]
}