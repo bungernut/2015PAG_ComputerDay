{
 "metadata": {
  "name": "",
  "signature": "sha256:60df4002b4649d046579babd881fbe8356f623f726d2925af58b5ecad686f542"
 },
 "nbformat": 3,
 "nbformat_minor": 0,
 "worksheets": [
  {
   "cells": [
    {
     "cell_type": "code",
     "collapsed": false,
     "input": [
      "N = 1e4\n",
      "x = np.random.uniform(size=N)\n",
      "y = np.random.uniform(size=N)\n",
      "# Test if the point is in a circle\n",
      "incirc = (x**2+y**2)**0.5 < 1\n",
      "plt.figure(figsize=(4,4))\n",
      "plt.plot(x[incirc],y[incirc],'.r',markersize=1)\n",
      "plt.plot(x[np.logical_not(incirc)],y[np.logical_not(incirc)],'b.',markersize=1)\n",
      "plt.ylabel('y')\n",
      "plt.xlabel('x')\n",
      "plt.title('Pi = %.5f'%(float(np.sum(incirc))/x.size*4))"
     ],
     "language": "python",
     "metadata": {},
     "outputs": []
    },
    {
     "cell_type": "code",
     "collapsed": false,
     "input": [
      "def simpy_slow(N):\n",
      "    \"\"\"\n",
      "    Simulates random x and y position N times, where x,y are between [0,1)\n",
      "    Calculates if r = sqrt(x^2+y^2) < 1 for each simulation\n",
      "    \"\"\"\n",
      "    inside_r = 0\n",
      "    for i in range(int(N)):\n",
      "        r = (np.random.uniform()**2 + np.random.uniform()**2)**0.5\n",
      "        if r <= 1: inside_r +=1\n",
      "    return float(inside_r)/N*4.0"
     ],
     "language": "python",
     "metadata": {},
     "outputs": []
    },
    {
     "cell_type": "code",
     "collapsed": false,
     "input": [
      "def simpy_numpy(N):\n",
      "    \"\"\"\n",
      "    Creates an array of random x and y positions from [0,1)\n",
      "    Checks all for being in a quarter circle at once\n",
      "    \"\"\"\n",
      "    r = (np.random.uniform(size=N)**2 + np.random.uniform(size=N)**2)**0.5\n",
      "    return np.sum(r<=1)/float(N)*4.0"
     ],
     "language": "python",
     "metadata": {},
     "outputs": []
    },
    {
     "cell_type": "code",
     "collapsed": false,
     "input": [
      "import time\n",
      "N = 1e6\n",
      "runtime = []\n",
      "runtime.append(time.clock())\n",
      "slowpi = simpy_slow(N)\n",
      "runtime.append(time.clock())\n",
      "numpypi = simpy_numpy(N)\n",
      "runtime.append(time.clock())\n",
      "print \"Pi = %.6f, Slow time  = %.3e seconds\"%(slowpi,runtime[1]-runtime[0])\n",
      "print \"Pi = %.6f, Numpy time = %.3e seconds\"%(numpypi,runtime[2]-runtime[1])"
     ],
     "language": "python",
     "metadata": {},
     "outputs": []
    },
    {
     "cell_type": "code",
     "collapsed": false,
     "input": [],
     "language": "python",
     "metadata": {},
     "outputs": []
    },
    {
     "cell_type": "code",
     "collapsed": false,
     "input": [],
     "language": "python",
     "metadata": {},
     "outputs": []
    }
   ],
   "metadata": {}
  }
 ]
}