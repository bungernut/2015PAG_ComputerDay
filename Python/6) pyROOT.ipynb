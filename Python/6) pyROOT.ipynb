{
 "metadata": {
  "name": "6) pyROOT"
 },
 "nbformat": 3,
 "nbformat_minor": 0,
 "worksheets": [
  {
   "cells": [
    {
     "cell_type": "code",
     "collapsed": false,
     "input": "import ROOT",
     "language": "python",
     "metadata": {},
     "outputs": []
    },
    {
     "cell_type": "code",
     "collapsed": false,
     "input": "# Lets genetate some random data and histogram it\nx = np.random.normal(5,1,10000)\nnbins,hrange = 50,(0,10)\nh1 = ROOT.TH1I(\"h1\",\"h1\",50,0,10)\nh2 = ROOT.TH1I(\"h2\",\"h2\",50,0,10)",
     "language": "python",
     "metadata": {},
     "outputs": []
    },
    {
     "cell_type": "code",
     "collapsed": false,
     "input": "# We can fill the histogram like this\nfor i in x: h1.Fill(i)\n# but there are other ways (like histogram it in numpy and fill bins in ROOT)\n# This would probably be faster for a large number of entries...\nh,be = np.histogram(x)\nfor i,j in enumerate(h): h2.AddBinContent(i,j)",
     "language": "python",
     "metadata": {},
     "outputs": []
    },
    {
     "cell_type": "code",
     "collapsed": false,
     "input": "h1.Fit(\"gaus\")\nmyfit = h1.GetFunction(\"gaus\")\npars = [myfit.GetParameter(i) for i in range(myfit.GetNpar())]\nperr = [myfit.GetParError(i) for i in range(myfit.GetNpar())]\ngauss = lambda x,A,x0,sigma: A*np.exp(-(x-x0)**2/(2*sigma**2))",
     "language": "python",
     "metadata": {},
     "outputs": []
    },
    {
     "cell_type": "code",
     "collapsed": false,
     "input": "print pars\nprint perr",
     "language": "python",
     "metadata": {},
     "outputs": []
    },
    {
     "cell_type": "code",
     "collapsed": false,
     "input": "plt.figure(figsize=(8,6))\nh,be,_ = plt.hist(x,bins=nbins,range=hrange)\nbc = 0.5*(be[1:]+be[:-1])\nplt.plot(bc,gauss(bc,pars[0],pars[1],pars[2]),'r',linewidth=2)",
     "language": "python",
     "metadata": {},
     "outputs": []
    },
    {
     "cell_type": "code",
     "collapsed": false,
     "input": "",
     "language": "python",
     "metadata": {},
     "outputs": []
    },
    {
     "cell_type": "code",
     "collapsed": false,
     "input": "",
     "language": "python",
     "metadata": {},
     "outputs": []
    }
   ],
   "metadata": {}
  }
 ]
}