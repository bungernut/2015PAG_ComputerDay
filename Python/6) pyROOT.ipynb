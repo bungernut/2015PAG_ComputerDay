{
 "metadata": {
  "name": "",
  "signature": "sha256:bf0098822f3216d7b4393ed06390b6231e691806942c4118eea19868a5771f50"
 },
 "nbformat": 3,
 "nbformat_minor": 0,
 "worksheets": [
  {
   "cells": [
    {
     "cell_type": "code",
     "collapsed": false,
     "input": [
      "import ROOT"
     ],
     "language": "python",
     "metadata": {},
     "outputs": [],
     "prompt_number": 1
    },
    {
     "cell_type": "code",
     "collapsed": false,
     "input": [
      "# Lets genetate some random data and histogram it\n",
      "x = np.random.normal(5,1,10000)\n",
      "nbins,hrange = 50,(0,10)\n",
      "# THESE LINES DEFINE ROOT HISTOGRAM OBJECTS\n",
      "h1 = ROOT.TH1I(\"h1\",\"h1\",50,0,10)\n",
      "h2 = ROOT.TH1I(\"h2\",\"h2\",50,0,10)"
     ],
     "language": "python",
     "metadata": {},
     "outputs": [],
     "prompt_number": 2
    },
    {
     "cell_type": "code",
     "collapsed": false,
     "input": [
      "# We can fill the histogram like this\n",
      "for i in x: h1.Fill(i)\n",
      "# but there are other ways (like histogram it in numpy and fill bins in ROOT)\n",
      "# This would probably be faster for a large number of entries...\n",
      "h,be = np.histogram(x,bins=50,range=(0,10))\n",
      "for i,j in enumerate(h): h2.AddBinContent(i+1,j)"
     ],
     "language": "python",
     "metadata": {},
     "outputs": [],
     "prompt_number": 3
    },
    {
     "cell_type": "code",
     "collapsed": false,
     "input": [
      "h2.Fit(\"gaus\",\"0\")\n",
      "myfit = h2.GetFunction(\"gaus\")\n",
      "pars = [myfit.GetParameter(i) for i in range(myfit.GetNpar())]\n",
      "perr = [myfit.GetParError(i) for i in range(myfit.GetNpar())]\n",
      "gauss = lambda x,A,x0,sigma: A*np.exp(-(x-x0)**2/(2*sigma**2))"
     ],
     "language": "python",
     "metadata": {},
     "outputs": [],
     "prompt_number": 4
    },
    {
     "cell_type": "code",
     "collapsed": false,
     "input": [
      "print pars\n",
      "print perr"
     ],
     "language": "python",
     "metadata": {},
     "outputs": [
      {
       "output_type": "stream",
       "stream": "stdout",
       "text": [
        "[800.2255516208664, 5.000273095641446, 0.9944474406825651]\n",
        "[9.894308311707473, 0.00999754052763898, 0.007241874141911964]\n"
       ]
      }
     ],
     "prompt_number": 5
    },
    {
     "cell_type": "code",
     "collapsed": false,
     "input": [
      "plt.figure(figsize=(8,6))\n",
      "h,be,_ = plt.hist(x,bins=nbins,range=hrange)\n",
      "bc = 0.5*(be[1:]+be[:-1])\n",
      "plt.plot(bc,gauss(bc,pars[0],pars[1],pars[2]),'r',linewidth=2)"
     ],
     "language": "python",
     "metadata": {},
     "outputs": [
      {
       "metadata": {},
       "output_type": "pyout",
       "prompt_number": 6,
       "text": [
        "[<matplotlib.lines.Line2D at 0x10d44da90>]"
       ]
      },
      {
       "metadata": {},
       "output_type": "display_data",
       "png": "[encoded data removed]",
       "text": [
        "<matplotlib.figure.Figure at 0x10c3d1610>"
       ]
      }
     ],
     "prompt_number": 6
    },
    {
     "cell_type": "code",
     "collapsed": false,
     "input": [],
     "language": "python",
     "metadata": {},
     "outputs": [],
     "prompt_number": 6
    },
    {
     "cell_type": "code",
     "collapsed": false,
     "input": [],
     "language": "python",
     "metadata": {},
     "outputs": [],
     "prompt_number": 6
    }
   ],
   "metadata": {}
  }
 ]
}