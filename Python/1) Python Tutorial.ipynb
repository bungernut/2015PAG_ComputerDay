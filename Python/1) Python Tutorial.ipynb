{
 "metadata": {
  "name": "",
  "signature": "sha256:13b453dd6989edd9f0f40a3e68f44bc2b84a6113a3e44b6ad8198c59184f3d93"
 },
 "nbformat": 3,
 "nbformat_minor": 0,
 "worksheets": [
  {
   "cells": [
    {
     "cell_type": "raw",
     "metadata": {},
     "source": [
      "This is a IPython notebook. It is a great way to run an interactive session in python. \n",
      "Press Enter to create another line in the block. \n",
      "Press Shift+Enter to execute the block. \n",
      "You can also create text blocks and more advanced things I wont cover (this is a text block)"
     ]
    },
    {
     "cell_type": "code",
     "collapsed": false,
     "input": [
      "# <- Python line comment starts with this\n",
      "\"\"\"\n",
      "Python multi line comment/super string\n",
      "designator uses triple quotes\n",
      "Quotes can be either ' or \" \n",
      "and you can use single quotes in the super quote\n",
      "\"\"\""
     ],
     "language": "python",
     "metadata": {},
     "outputs": []
    },
    {
     "cell_type": "code",
     "collapsed": false,
     "input": [
      "# Python has several native data types\n",
      "# You do NOT have to declare types, python knows (guesses)!\n",
      "a = 'spam'\n",
      "b = \"spam\"\n",
      "c = 1   #integer\n",
      "d = 2.2 #float\n",
      "e = (1,2,3) #tuple\n",
      "f = [1,2,3] #list\n",
      "g = {'one':1,'two':2} #dictionary\n",
      "# You can figure out what type something is with type()\n",
      "print \"Type of a='spam'?\",type(a)\n",
      "print \"Type of c=1?\",type(c)"
     ],
     "language": "python",
     "metadata": {},
     "outputs": []
    },
    {
     "cell_type": "code",
     "collapsed": false,
     "input": [
      "# But you have to be careful about types, particularly with division\n",
      "print 1/2\n",
      "print float(1)/2"
     ],
     "language": "python",
     "metadata": {},
     "outputs": [
      {
       "output_type": "stream",
       "stream": "stdout",
       "text": [
        "0\n",
        "0.5\n"
       ]
      }
     ],
     "prompt_number": 59
    },
    {
     "cell_type": "code",
     "collapsed": false,
     "input": [
      "# Tuples, Lists, Dicts are extreamly useful built in types\n",
      "# Call for a element in a list and tuple is the same\n",
      "print \"e[0]=\",e[0],\" f[2]=\",f[2]\n",
      "\n",
      "# You can also access a range of entries in a list/tuple\n",
      "print e[:2]\n",
      "# You can start from the other end as well, with -1 as the last item, -2 as the second last, ...\n",
      "print e[-1]\n",
      "print e[1:-1]"
     ],
     "language": "python",
     "metadata": {},
     "outputs": []
    },
    {
     "cell_type": "code",
     "collapsed": false,
     "input": [
      "# And Dictionaries are accessed through keys\n",
      "print g\n",
      "print g.keys()\n",
      "print g['one']"
     ],
     "language": "python",
     "metadata": {},
     "outputs": []
    },
    {
     "cell_type": "code",
     "collapsed": false,
     "input": [
      "# Python also allows C-like string formatting which is easier to read\n",
      "# If there is more than one needs to be in a tuple in the same order\n",
      "print \"e[0]=%d, f[2]=%d\"%(e[0],f[2])\n",
      "\n",
      "# %d is a integer\n",
      "# %f is a float, can specify accuracy with %.3f\n",
      "print \"d=%.3f\"%d\n",
      "# there is also scientific, strings, etc."
     ],
     "language": "python",
     "metadata": {},
     "outputs": []
    },
    {
     "cell_type": "code",
     "collapsed": false,
     "input": [
      "# All OBJECTS have methods, you can see these methods using dir()\n",
      "print \"Tuple methods\"\n",
      "print dir(e)\n",
      "print \"Methods that start with a __ are private and are not meant to be used by you!\""
     ],
     "language": "python",
     "metadata": {},
     "outputs": []
    },
    {
     "cell_type": "heading",
     "level": 4,
     "metadata": {},
     "source": [
      "Logic in Python"
     ]
    },
    {
     "cell_type": "code",
     "collapsed": false,
     "input": [
      "# EQUALS\n",
      "print \"does a equal b?\", a==b\n",
      "# NOT EQUALS \n",
      "print \"are a and b not equal?\", a!=b\n",
      "# Less Than\n",
      "print \"is c < d?\",c<d\n",
      "# NOTE: True, False capatilization!"
     ],
     "language": "python",
     "metadata": {},
     "outputs": []
    },
    {
     "cell_type": "code",
     "collapsed": false,
     "input": [
      "# If statements are used to do actions if the statement is True\n",
      "if a==b:\n",
      "    print \"spam\"\n",
      "# Statements can be joined with logical arguments, [and, or, not, in]\n",
      "if a==b and c<d or not a!=b:\n",
      "    print \"eggs\"\n",
      "# \"in\" tests if the object is in a tuple or list\n",
      "if 3 in [1,2,3]:\n",
      "    print \"shrubbery\""
     ],
     "language": "python",
     "metadata": {},
     "outputs": []
    },
    {
     "cell_type": "code",
     "collapsed": false,
     "input": [],
     "language": "python",
     "metadata": {},
     "outputs": []
    },
    {
     "cell_type": "heading",
     "level": 4,
     "metadata": {},
     "source": [
      "Loops"
     ]
    },
    {
     "cell_type": "code",
     "collapsed": false,
     "input": [
      "# FOR loops loops over an ITERABLE object, such as a list or tuple\n",
      "# One easy way to create a iterable is range()\n",
      "print \"range(9) =\",range(9)"
     ],
     "language": "python",
     "metadata": {},
     "outputs": []
    },
    {
     "cell_type": "code",
     "collapsed": false,
     "input": [
      "# It's bad practice, but.. if your loop is one line, you dont need to have a new line\n",
      "for i in range(4): print i"
     ],
     "language": "python",
     "metadata": {},
     "outputs": []
    },
    {
     "cell_type": "code",
     "collapsed": false,
     "input": [
      "# for loops with nested if statements are powerful\n",
      "for i in range(8):\n",
      "    # Notice the indentation!!\n",
      "    # if i is even (remainder divided by 2==0) print i\n",
      "    if i%2==0: print i"
     ],
     "language": "python",
     "metadata": {},
     "outputs": []
    },
    {
     "cell_type": "code",
     "collapsed": false,
     "input": [
      "for i in range(8):\n",
      "    # if i is even, continue to the next iteration of the for loop\n",
      "    if i%2==0: continue\n",
      "    print i"
     ],
     "language": "python",
     "metadata": {},
     "outputs": []
    },
    {
     "cell_type": "code",
     "collapsed": false,
     "input": [
      "# Python has while loops as well.\n",
      "i=0\n",
      "while True:\n",
      "    i+=1\n",
      "    # break will quit out of the for or while loop\n",
      "    if i==5: break\n",
      "    print i"
     ],
     "language": "python",
     "metadata": {},
     "outputs": []
    },
    {
     "cell_type": "code",
     "collapsed": false,
     "input": [
      "# Question: What is the difference between a tuple and a list???\n",
      "methods_tuple = dir(())\n",
      "methods_list  = dir([])\n",
      "uniqueto_tuple, uniqueto_list = [],[]\n",
      "for i in methods_list:\n",
      "    if i[0] == '_': continue\n",
      "    if i in methods_tuple: continue\n",
      "    uniqueto_list.append(i)\n",
      "for i in methods_tuple:\n",
      "    if i[0] == '_': continue\n",
      "    if i in methods_list: continue\n",
      "    uniqueto_tuple.append(i)\n",
      "print \"Unique to tuple = \",uniqueto_tuple\n",
      "print \"Unique to list = \",uniqueto_list"
     ],
     "language": "python",
     "metadata": {},
     "outputs": []
    },
    {
     "cell_type": "code",
     "collapsed": false,
     "input": [
      "# Sometimes you want to know the element index and the value at the same time\n",
      "# enumerate a list or tuple object and you get the index,value returned\n",
      "for i,j in enumerate([9,8,7,6,5]):\n",
      "    print i,j"
     ],
     "language": "python",
     "metadata": {},
     "outputs": []
    },
    {
     "cell_type": "heading",
     "level": 4,
     "metadata": {},
     "source": [
      "creating functions"
     ]
    },
    {
     "cell_type": "code",
     "collapsed": false,
     "input": [
      "# Traditional functions\n",
      "def spam_squared(i):\n",
      "    if i%2==0:\n",
      "        return 'spam'\n",
      "    elif type(i) == float:\n",
      "        return 'egg'\n",
      "    else:\n",
      "        return 'shrubbery'"
     ],
     "language": "python",
     "metadata": {},
     "outputs": []
    },
    {
     "cell_type": "code",
     "collapsed": false,
     "input": [
      "spam_squared(3.4)"
     ],
     "language": "python",
     "metadata": {},
     "outputs": []
    },
    {
     "cell_type": "code",
     "collapsed": false,
     "input": [
      "# Lambda functions are one line functions for simple expressions\n",
      "# They become more powerful when we explore Numpy\n",
      "egg_squared = lambda i: i**2.001"
     ],
     "language": "python",
     "metadata": {},
     "outputs": []
    },
    {
     "cell_type": "code",
     "collapsed": false,
     "input": [
      "egg_squared(2)"
     ],
     "language": "python",
     "metadata": {},
     "outputs": []
    },
    {
     "cell_type": "code",
     "collapsed": false,
     "input": [
      "# Functions can also have default arguments\n",
      "def my_power(i,power=2): return i**power"
     ],
     "language": "python",
     "metadata": {},
     "outputs": []
    },
    {
     "cell_type": "code",
     "collapsed": false,
     "input": [
      "print \"my_power(2) = \",my_power(2)\n",
      "print \"my_power(2,3) = \",my_power(2,3)"
     ],
     "language": "python",
     "metadata": {},
     "outputs": []
    },
    {
     "cell_type": "code",
     "collapsed": false,
     "input": [
      "#I think that is enough basic python although there is much much more"
     ],
     "language": "python",
     "metadata": {},
     "outputs": []
    }
   ],
   "metadata": {}
  }
 ]
}