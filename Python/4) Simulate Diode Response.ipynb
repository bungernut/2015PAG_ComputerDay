{
 "metadata": {
  "name": "",
  "signature": "sha256:e8b15ae020a0f2906491960884d1fe1a99191e431aacbf16e86fde9d05973848"
 },
 "nbformat": 3,
 "nbformat_minor": 0,
 "worksheets": [
  {
   "cells": [
    {
     "cell_type": "markdown",
     "metadata": {},
     "source": [
      "http://arxiv.org/abs/1310.1178\n",
      ":: We want to simulate the diode response to an alpha particle.\n",
      "Diodes have a dead layer which produces no signal on their surface. \n",
      "Once the alpha particle gets past the dead layer then the diode begins to measure alpha energy."
     ]
    },
    {
     "cell_type": "code",
     "collapsed": false,
     "input": [
      "import math\n",
      "# Setup a Apparatus that measures the alpha energy\n",
      "chns = 1024   # number of energy chanels in the device\n",
      "energy_scale = 80.  # chn/MeV \n",
      "energy_offset = 0.1  # Mev @ chn=1\n",
      "# Diode properties\n",
      "h = 0.56 #um - dead layer thickness\n",
      "dEdX = 0.11  #MeV/um (energy loss per distance traveled in the diode)\n",
      "gauss_sigma = 0.009 # Energy resolution of the detector"
     ],
     "language": "python",
     "metadata": {},
     "outputs": []
    },
    {
     "cell_type": "code",
     "collapsed": false,
     "input": [
      "def diode_out(alpha_energy):\n",
      "    # Choose a random direction for the alpha\n",
      "    # particle in spherical coordinates\n",
      "    theta = numpy.random.random() # does the alpha go into the diode or away from it??\n",
      "    if theta >= 0.5:\n",
      "      #skip it, alpha went the wrong way\n",
      "      return 0\n",
      "    phi = math.acos(2.*numpy.random.random() - 1.)\n",
      "    \n",
      "    #The length the track is in the silicone\n",
      "    L = alpha_energy/dEdX\n",
      "    \n",
      "    # the dead layer wont make detectable energy\n",
      "    L_dead = h/math.sin(phi)\n",
      "    \n",
      "    #Energy remaining to deposit in active layer\n",
      "    E_dep = (L-L_dead)*dEdX\n",
      "    \n",
      "    # Smear the energy deposit by gaussian energy resolution\n",
      "    E_dep_smear = numpy.random.normal(E_dep,gauss_sigma,1)[0]\n",
      "    return int(math.floor((energy_offset+E_dep_smear)*80.))"
     ],
     "language": "python",
     "metadata": {},
     "outputs": []
    },
    {
     "cell_type": "code",
     "collapsed": false,
     "input": [
      "# Lets simulate some events!\n",
      "N = 100000\n",
      "alpha_e = 6.0 # MeV\n",
      "MCA_buffer = numpy.zeros(chns)\n",
      "for i in range(N):\n",
      "    bin = diode_out(alpha_e)\n",
      "    MCA_buffer[bin]+=1"
     ],
     "language": "python",
     "metadata": {},
     "outputs": []
    },
    {
     "cell_type": "code",
     "collapsed": false,
     "input": [
      "plt.step(numpy.arange(chns),MCA_buffer/float(N))\n",
      "plt.plot(0,MCA_buffer[0]/float(N),'rx')\n",
      "plt.title('Simulation of Alpha=%.2f MeV (N=%d)'%(alpha_e,N))\n",
      "plt.xlabel('MCA Channel')\n",
      "plt.ylabel('PDF')\n",
      "plt.xlim((0,chns))"
     ],
     "language": "python",
     "metadata": {},
     "outputs": []
    },
    {
     "cell_type": "code",
     "collapsed": false,
     "input": [
      "plt.step(numpy.arange(chns),MCA_buffer/float(N))\n",
      "plt.plot(0,MCA_buffer[0]/float(N),'rx')\n",
      "plt.title('Simulation of Alpha=%.2f MeV (N=%d)'%(alpha_e,N))\n",
      "plt.xlabel('MCA Channel')\n",
      "plt.ylabel('PDF')\n",
      "plt.xlim(400,500)\n",
      "plt.ylim(0,0.2)"
     ],
     "language": "python",
     "metadata": {},
     "outputs": []
    },
    {
     "cell_type": "code",
     "collapsed": false,
     "input": [],
     "language": "python",
     "metadata": {},
     "outputs": []
    }
   ],
   "metadata": {}
  }
 ]
}