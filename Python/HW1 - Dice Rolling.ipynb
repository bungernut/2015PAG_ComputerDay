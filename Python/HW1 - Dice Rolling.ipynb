{
 "metadata": {
  "name": "",
  "signature": "sha256:dad9fef5d689fa318faebebb7e1e0a11a8c90e707893f89680e7e70e2094639b"
 },
 "nbformat": 3,
 "nbformat_minor": 0,
 "worksheets": [
  {
   "cells": [
    {
     "cell_type": "code",
     "collapsed": false,
     "input": [
      "# Write a function that randomly rolls a N sided dice, and returns the output\n",
      "# You can do this easially with numpy.random.XXX or you could come up w/ an the algorithm \n",
      "def dice_roll(N):\n",
      "    "
     ],
     "language": "python",
     "metadata": {},
     "outputs": []
    },
    {
     "cell_type": "code",
     "collapsed": false,
     "input": [
      "# Write a function that takes a list of dice to roll, and gives the output for each dice\n",
      "def multi_roll(dice_list):\n",
      "    "
     ],
     "language": "python",
     "metadata": {},
     "outputs": []
    },
    {
     "cell_type": "code",
     "collapsed": false,
     "input": [
      "# Plot the distribution of the sum roll of\n",
      "# 3x 8-sided dice\n",
      "# 4x 6-sided dice\n",
      "# 2x 12-sided dice"
     ],
     "language": "python",
     "metadata": {},
     "outputs": []
    }
   ],
   "metadata": {}
  }
 ]
}